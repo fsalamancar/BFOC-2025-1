{
 "cells": [
  {
   "cell_type": "markdown",
   "id": "84bd70c6",
   "metadata": {},
   "source": [
    "# Taller FASTQC\n",
    "En este taller usted debe realizar el análisis de calidad de 2 pequeñas librerías de RNA.\n",
    "Estas se encuentran en la ruta: /datos/resources/examples/fastqc/\n",
    "\n",
    "La librerías son: A-LFC1.fq A-LFC2.fq B-LFC1.fq B-LFC2.fq\n",
    "\n",
    "Una de las librerías se denomina A-LFC y la otra B-LFC. El número 1 y 2 hace referencia a que estas son\n",
    "lecturas pareadas (1: forward, 2: Reverse).\n",
    "Con base en sus resultados responda las siguientes preguntas."
   ]
  },
  {
   "cell_type": "markdown",
   "id": "ef01cb7c",
   "metadata": {},
   "source": [
    "## Introducción\n",
    " En este taller aplicará sus conocimientos sobre control de calidad en secuenciación de alto rendimiento para analizar y comparar la calidad de distintas librerías de RNAseq obtenidas de muestras biológicas de coral. Utilizarás reportes generados por FastQC y agregados mediante MultiQC, herramientas ampliamente empleadas en el preprocesamiento de datos ómicos.\n"
   ]
  },
  {
   "cell_type": "markdown",
   "id": "862a8980",
   "metadata": {},
   "source": [
    "## Contexto experimental\n",
    "Las muestras provienen de dos condiciones experimentales o individuos distintos, denominadas A-LFC y B-LFC. Para cada una se generaron lecturas en ambas direcciones (forward y reverse), por lo que dispones de un total de cuatro archivos de calidad. El objetivo es identificar posibles problemas técnicos en la preparación de librerías (como adaptadores residuales, baja calidad por base, duplicación excesiva o contenido GC anómalo) que puedan afectar la interpretación biológica posterior.\n"
   ]
  },
  {
   "cell_type": "markdown",
   "id": "9f4dde73",
   "metadata": {},
   "source": [
    "## Objetivos de aprendizaje\n",
    "\n",
    "- Interpretar críticamente los resultados de FastQC en el contexto de librerías transcriptómicas.\n",
    "- Comparar el desempeño entre las librerías A-LFC y B-LFC.\n",
    "- Determinar qué muestras presentan posibles sesgos técnicos o baja calidad.\n",
    "- Relacionar los hallazgos con decisiones bioinformáticas posteriores (recorte, filtrado, exclusión de muestras).\n",
    "- Comprender qué implican los módulos de FastQC (per base quality, sequence content, duplication levels, etc.) y cómo evaluarlos en conjunto.\n",
    "\n"
   ]
  },
  {
   "cell_type": "markdown",
   "id": "85a27c11",
   "metadata": {},
   "source": [
    "##  Desarrollo del taller\n",
    "\n",
    "En este taller usted debe realizar el análisis de calidad de 2 pequeñas librerías de RNA mediante la herramienta fastqc. Opcionalemnte podrá usar adicionalmente la herramienta multiqc de acuerdo a lo visto en clase.\n",
    "Las librerías son: A-LFC1.fq A-LFC2.fq B-LFC1.fq B-LFC2.fq El número 1 y 2 hace referencia a que estas son\n",
    "lecturas pareadas (1: forward, 2: Reverse).\n"
   ]
  },
  {
   "cell_type": "markdown",
   "id": "73d8e328",
   "metadata": {},
   "source": [
    "### FastQC"
   ]
  },
  {
   "cell_type": "code",
   "execution_count": null,
   "id": "05a5cf2f",
   "metadata": {},
   "outputs": [
    {
     "name": "stdout",
     "output_type": "stream",
     "text": [
      "Taller2_Fastqc.ipynb \u001b[34mdata\u001b[m\u001b[m\n",
      "\u001b[31mA-LFC1.fq\u001b[m\u001b[m \u001b[31mA-LFC2.fq\u001b[m\u001b[m \u001b[31mB-LFC1.fq\u001b[m\u001b[m \u001b[31mB-LFC2.fq\u001b[m\u001b[m \u001b[34moutput\u001b[m\u001b[m\n",
      "null\n",
      "null\n",
      "Started analysis of A-LFC1.fq\n",
      "null\n",
      "null\n",
      "Approx 5% complete for A-LFC1.fq\n",
      "Approx 10% complete for A-LFC1.fq\n",
      "Approx 15% complete for A-LFC1.fq\n",
      "Approx 20% complete for A-LFC1.fq\n",
      "Approx 25% complete for A-LFC1.fq\n",
      "Approx 30% complete for A-LFC1.fq\n",
      "Approx 35% complete for A-LFC1.fq\n",
      "Approx 40% complete for A-LFC1.fq\n",
      "Approx 45% complete for A-LFC1.fq\n",
      "Approx 50% complete for A-LFC1.fq\n",
      "Approx 55% complete for A-LFC1.fq\n",
      "Approx 60% complete for A-LFC1.fq\n",
      "Approx 65% complete for A-LFC1.fq\n",
      "Approx 70% complete for A-LFC1.fq\n",
      "Approx 75% complete for A-LFC1.fq\n",
      "Approx 80% complete for A-LFC1.fq\n",
      "Approx 85% complete for A-LFC1.fq\n",
      "Approx 90% complete for A-LFC1.fq\n",
      "Approx 95% complete for A-LFC1.fq\n",
      "Approx 100% complete for A-LFC1.fq\n",
      "Analysis complete for A-LFC1.fq\n",
      "Started analysis of A-LFC2.fq\n",
      "Approx 5% complete for A-LFC2.fq\n",
      "Approx 10% complete for A-LFC2.fq\n",
      "Approx 15% complete for A-LFC2.fq\n",
      "Approx 20% complete for A-LFC2.fq\n",
      "Approx 25% complete for A-LFC2.fq\n",
      "Approx 30% complete for A-LFC2.fq\n",
      "Approx 35% complete for A-LFC2.fq\n",
      "Approx 40% complete for A-LFC2.fq\n",
      "Approx 45% complete for A-LFC2.fq\n",
      "Approx 50% complete for A-LFC2.fq\n",
      "Approx 55% complete for A-LFC2.fq\n",
      "Approx 60% complete for A-LFC2.fq\n",
      "Approx 65% complete for A-LFC2.fq\n",
      "Approx 70% complete for A-LFC2.fq\n",
      "Approx 75% complete for A-LFC2.fq\n",
      "Approx 80% complete for A-LFC2.fq\n",
      "Approx 85% complete for A-LFC2.fq\n",
      "Approx 90% complete for A-LFC2.fq\n",
      "Approx 95% complete for A-LFC2.fq\n",
      "Approx 100% complete for A-LFC2.fq\n",
      "Analysis complete for A-LFC2.fq\n",
      "Started analysis of B-LFC1.fq\n",
      "Approx 20% complete for B-LFC1.fq\n",
      "Approx 40% complete for B-LFC1.fq\n",
      "Approx 60% complete for B-LFC1.fq\n",
      "Approx 80% complete for B-LFC1.fq\n",
      "Approx 100% complete for B-LFC1.fq\n",
      "Analysis complete for B-LFC1.fq\n",
      "Started analysis of B-LFC2.fq\n",
      "Approx 20% complete for B-LFC2.fq\n",
      "Approx 40% complete for B-LFC2.fq\n",
      "Approx 60% complete for B-LFC2.fq\n",
      "Approx 80% complete for B-LFC2.fq\n",
      "Approx 100% complete for B-LFC2.fq\n",
      "Analysis complete for B-LFC2.fq\n"
     ]
    }
   ],
   "source": [
    "!ls\n",
    "!mkdir -p data/fastqc/output\n",
    "!cd data/fastqc && ls && fastqc -o output *.fq"
   ]
  },
  {
   "cell_type": "markdown",
   "id": "7b01f3a7",
   "metadata": {},
   "source": [
    "### MultiQC\n"
   ]
  },
  {
   "cell_type": "code",
   "execution_count": null,
   "id": "49db653e",
   "metadata": {},
   "outputs": [],
   "source": [
    "#!pip install multiqc"
   ]
  },
  {
   "cell_type": "code",
   "execution_count": 12,
   "id": "fd07a90b",
   "metadata": {},
   "outputs": [
    {
     "name": "stdout",
     "output_type": "stream",
     "text": [
      "multiqc, version 1.29\n"
     ]
    }
   ],
   "source": [
    "!multiqc --version\n"
   ]
  },
  {
   "cell_type": "code",
   "execution_count": null,
   "id": "cdd35dd6",
   "metadata": {},
   "outputs": [
    {
     "name": "stdout",
     "output_type": "stream",
     "text": [
      "A-LFC1_fastqc.html A-LFC2_fastqc.html B-LFC1_fastqc.html B-LFC2_fastqc.html\n",
      "A-LFC1_fastqc.zip  A-LFC2_fastqc.zip  B-LFC1_fastqc.zip  B-LFC2_fastqc.zip\n"
     ]
    }
   ],
   "source": [
    "!cd data/fastqc/output/ && ls "
   ]
  },
  {
   "cell_type": "code",
   "execution_count": 16,
   "id": "4dba440e",
   "metadata": {},
   "outputs": [
    {
     "name": "stdout",
     "output_type": "stream",
     "text": [
      "\n",
      "\u001b[91m///\u001b[0m \u001b]8;id=697942;https://multiqc.info\u001b\\\u001b[1mMultiQC\u001b[0m\u001b]8;;\u001b\\ 🔍 \u001b[2mv1.29\u001b[0m\n",
      "\n",
      "\u001b[34m       file_search\u001b[0m | Search path: /Users/fjosesala/Documents/GitHub/BFOC-2025-1/Taller2_FASTQC/data/fastqc/output\n",
      "\u001b[2K         \u001b[34msearching\u001b[0m | \u001b[90m━━━━━━━━━━━━━━━━━━━━━━━━━━━━━━━━━━━━━━━━\u001b[0m \u001b[35m100%\u001b[0m \u001b[32m8/8\u001b[0m  _fastqc.html\u001b[0m\n",
      "\u001b[?25h\u001b[34m            fastqc\u001b[0m | Found 4 reports\n",
      "\u001b[34m     write_results\u001b[0m | Data        : multiqc_data\n",
      "\u001b[34m     write_results\u001b[0m | Report      : multiqc_report.html\n",
      "\u001b[34m           multiqc\u001b[0m | MultiQC complete\n"
     ]
    }
   ],
   "source": [
    "!multiqc data/fastqc/output/"
   ]
  },
  {
   "cell_type": "markdown",
   "id": "c8e1db0d",
   "metadata": {},
   "source": [
    "## Responder: "
   ]
  },
  {
   "cell_type": "markdown",
   "id": "43fdfa48",
   "metadata": {},
   "source": [
    "### 1. ¿Qué observación permitiría concluir que la librería B-LFC tiene mejor calidad general que A-LFC?\n",
    "\n",
    "- A) B-LFC tiene más secuencias únicas y menor duplicación.\n",
    "- B) A-LFC tiene más bases con calidad Q > 30.\n",
    "- C) B-LFC tiene menos secuencias con adaptadores.\n",
    "- D) Todas las anteriores."
   ]
  },
  {
   "cell_type": "markdown",
   "id": "d9f2e7bc",
   "metadata": {},
   "source": [
    "Para poder concluir que la libreria B-Lfc tiene mejor calidad general que A-lfc, se revisan varios parametros en el reporte.\n",
    "\n",
    "a. En la tabla General Stats Table se observa que la libreria B tiene menor duplicacion en general con un promedio de 46.25%, mientras que A posee una duplicacion promedio de 14%.\n",
    "\n",
    "b. Es erroneo decir que A tiene mas bases con calidad Q > 30, pues al observar la grafica de Per sequence Quality scores, se ve que ambas librerias tienen un promedio de calidad aproximado de 30%\n",
    "\n",
    "c. Al ver la grafica de las secuencia con adaptadores se observa que la cantidad de adaptadores entre ambas es similar, por lo que no se podria concluir que b tiene menos secuancias con adaptadores\n",
    "\n",
    "R/ Por lo que la opcion correcta es la A\n",
    "\n",
    "\n"
   ]
  },
  {
   "cell_type": "markdown",
   "id": "bad27570",
   "metadata": {},
   "source": [
    "### 2. Considerando los perfiles de calidad por posición base y el contenido GC observado en A-LFC2 y B-LFC1, ¿cuál de las siguientes hipótesis explicaría mejor un sesgo sistemático en el contenido de bases hacia los extremos de las lecturas?\n",
    "\n",
    "- A) Ineficiencia en la incorporación de nucleótidos\n",
    "- B) Contaminación por ADN genómico.\n",
    "- C) Fragmentación deficiente antes de la construcción de librería\n",
    "- D) Saturación del sistema óptico\n",
    "- E) A y D\n",
    "- F) A y C"
   ]
  },
  {
   "cell_type": "markdown",
   "id": "7a8ff473",
   "metadata": {},
   "source": [
    "Se observa una contaminacion en las muestras, esto debido a que no tiene una curva normalizada bien marcada, y presentan varios picos en la grafica de contenido de GC.\n",
    "\n",
    "\n",
    "\n",
    "sesgos al inicio por mala incorporacion, debido a calibracion del equipo\n",
    "sesgos al ser mal fragmentados, debido a que se harian fragmentos muy parecidos, lo cual no favoreceria al supesto de aleatorizacion\n",
    "\n",
    "R/ A y C"
   ]
  },
  {
   "cell_type": "markdown",
   "id": "61149ebd",
   "metadata": {},
   "source": [
    "En muchos experimentos de RNAseq, especialmente en organismos no modelo o tejidos con alto contenido de ribosomas (como corales o plantas), se prefiere el uso de depleción de rRNA (rRNA depletion) en lugar de enriquecimiento por poli-A. Esta estrategia permite capturar RNA no codificante y mRNA sin cola poli-A, pero también deja abierta la posibilidad de que parte del rRNA no sea eliminado completamente, especialmente si el RNA de partida está degradado o si el diseño del kit no es óptimo para la especie estudiada.\n",
    "\n",
    "FastQC puede ayudar a diagnosticar estos casos al mostrar:\n",
    "\n",
    "1. Secuencias sobre-representadas correspondientes a rRNA.\n",
    "\n",
    "2. Altos niveles de duplicación no explicados solo por alta expresión de genes.\n",
    "\n",
    "\n",
    "\n",
    "\n",
    "### 3. Al observar los resultados del FASTQC, se evidencia que ninguna de las muestras tiene secuencias sobre-representadas anotadas como rRNA. Sin embargo, todas presentan algún nivel de duplicación. ¿Cuál es la interpretación más adecuada?\n",
    "\n",
    "\n",
    "A) La duplicación indica contaminación por rRNA no eliminada.\n",
    "\n",
    "B) La duplicación puede deberse a genes altamente expresados y no necesariamente refleja un problema técnico.\n",
    "\n",
    "C) El protocolo de depleción de rRNA fue fallido en todas las muestras.\n",
    "\n",
    "D) Todas las muestras duplicadas deben descartarse antes de análisis transcriptómico.\n",
    "Option 5"
   ]
  },
  {
   "cell_type": "markdown",
   "id": "5407e1f8",
   "metadata": {},
   "source": [
    "Observa la gráfica “Sequence Duplication Levels” para las cuatro muestras analizadas (A-LFC1, A-LFC2, B-LFC1 y B-LFC2). Una de las muestras muestra picos muy pronunciados de duplicación en los niveles >10 y superiores (alrededor del 20%). ¿Cuál de las siguientes interpretaciones es más adecuada?\n",
    "\n",
    "- A) La muestra presenta una transcripción génica muy activa y homogénea, lo que explica la alta duplicación.\n",
    "- B) El patrón indica una posible sobreamplificación por PCR o baja complejidad de la librería, lo que podría afectar la cuantificación de la expresión.\n",
    "- C) La duplicación alta en >10, >50 y >100 es normal en RNAseq y no debe considerarse problemática si hay suficiente profundidad.\n",
    "- D) La muestra con mayor duplicación representa una mejor eficiencia en la captura de transcritos altamente expresados.\n"
   ]
  },
  {
   "cell_type": "markdown",
   "id": "53270dbe",
   "metadata": {},
   "source": [
    "Durante la aplicacion de la libreria se hacen demasiados ciclos de PCR, afectando la cuantificacion de la expresion. Es decir sobreexresando la expresion de ciertos fragmentos de la secuencia. \n",
    "\n",
    "| Duplicación (>10 copias) | Interpretación                                  |\n",
    "|--------------------------|-------------------------------------------------|\n",
    "| < 5%                     | Bajo → sin preocupación                         |\n",
    "| 5–15%                    | Moderado → aceptable, pero vigilar              |\n",
    "| 15–20%                   | Alto → posible sobreamplificación o sesgo       |\n",
    "| > 20%                    | Muy alto → probable sobreamplificación técnica  |\n",
    "\n",
    "\n",
    "R/ B\n"
   ]
  },
  {
   "cell_type": "markdown",
   "id": "5ddc89e5",
   "metadata": {},
   "source": []
  },
  {
   "cell_type": "markdown",
   "id": "cfced7bb",
   "metadata": {},
   "source": []
  }
 ],
 "metadata": {
  "kernelspec": {
   "display_name": "Python [conda env:base] *",
   "language": "python",
   "name": "conda-base-py"
  },
  "language_info": {
   "codemirror_mode": {
    "name": "ipython",
    "version": 3
   },
   "file_extension": ".py",
   "mimetype": "text/x-python",
   "name": "python",
   "nbconvert_exporter": "python",
   "pygments_lexer": "ipython3",
   "version": "3.12.2"
  }
 },
 "nbformat": 4,
 "nbformat_minor": 5
}
