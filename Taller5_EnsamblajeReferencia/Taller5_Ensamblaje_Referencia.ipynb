{
 "cells": [
  {
   "cell_type": "markdown",
   "id": "84bd70c6",
   "metadata": {},
   "source": [
    "# Taller ENSAMBLAJE POR REFERENCIA \n",
    "\n",
    "En este taller prenderás a alinear lecturas genómicas reales de Mycoplasma genitalium contra su genoma de referencia utilizando herramientas estándar en bioinformática como BWA y Samtools. Este proceso, conocido como ensamblaje por referencia, es clave en análisis de variantes, resecuenciación y estudios comparativos.\n",
    "\n",
    "**Objetivo**: \n",
    "\n",
    "Este taller tiene como propósito que usted desarrolle las habilidades necesarias para:\n",
    "\n",
    "- Identificar y descargar un genoma de referencia desde NCBI.\n",
    "\n",
    "- LLevar a cabo y comprender el proceso de indexación genómica mediante BWA.\n",
    "\n",
    "- Alinear lecturas (reads) usando un genoma de referencia.\n",
    "\n",
    "- Convertir, ordenar y filtrar alineamientos mediante Samtools.\n",
    "\n",
    "- Obtener y reconocer las carcterísticas de un archivo de ensamblaje  en formato BAM.\n",
    "\n",
    "\n",
    "**Dataset:**\n",
    "\n",
    "- Organismo: Mycoplasma genitalium.\n",
    "\n",
    "- Datos: Lecturas Illumina MiSeq 2x150 bp (pareadas). \n",
    "\n",
    "- Accesión: ERR486840 .\n",
    "\n",
    "- Genoma de referencia de  Mycoplasma genitalium (~580 kb)"
   ]
  },
  {
   "cell_type": "markdown",
   "id": "ef01cb7c",
   "metadata": {},
   "source": [
    "## Introducción\n",
    "\n",
    "Mycoplasma genitalium\n",
    "Mycoplasma genitalium es una bacteria de pequeño tamaño perteneciente a la clase Mollicutes. Fue identificada por primera vez en la década de 1980 y es conocida por tener uno de los genomas más pequeños de todos los organismos autosuficientes (~580 kbp), lo que la convierte en un modelo interesante para estudios de biología mínima y genómica sintética. Desde el punto de vista clínico, M. genitalium es un patógeno de transmisión sexual (ETS) que puede causar infecciones tanto en hombres como en mujeres. En hombres, se asocia comúnmente con uretritis no gonocócica, mientras que en mujeres puede provocar cervicitis, enfermedad inflamatoria pélvica, y se ha vinculado con complicaciones reproductivas.\n",
    "\n",
    "Algunas características relevantes de M. genitalium son:\n",
    "\n",
    "Carece de pared celular, lo que la hace intrínsecamente resistente a antibióticos β-lactámicos como la penicilina.\n",
    "\n",
    "Crecimiento lento y difícil en cultivo, lo que complica su diagnóstico clínico.\n",
    "\n",
    "Alta tasa de resistencia a antibióticos, especialmente a macrólidos (como la azitromicina) y fluoroquinolonas, lo que plantea un desafío en su tratamiento.\n",
    "\n",
    "Su importancia clínica ha ido en aumento en los últimos años, siendo reconocida como una ETS emergente y motivo de preocupación por su resistencia creciente y su impacto en la salud sexual y reproductiva.\n"
   ]
  },
  {
   "cell_type": "markdown",
   "id": "85a27c11",
   "metadata": {},
   "source": [
    "##  Desarrollo del taller\n",
    "\n"
   ]
  },
  {
   "cell_type": "markdown",
   "id": "73d8e328",
   "metadata": {},
   "source": [
    "### Parte 0: Copia de Archivos \n",
    "\n",
    "Enlace los archivos originales en su espacio de trabajo creando un enlace simbòlico de los mismos:\n",
    "\n",
    "ln -s   /datos/resources/examples/rawdata/mycobacterium/ERR486840_1.fastq   ERR486840_1.fastq \n",
    "\n",
    "ln -s   /datos/resources/examples/rawdata/mycobacterium/ERR486840_2.fastq   ERR486840_2.fastq "
   ]
  },
  {
   "cell_type": "code",
   "execution_count": null,
   "id": "78dfbb85",
   "metadata": {},
   "outputs": [],
   "source": [
    "#Crear accesos directos a los datos de ejemplo de Mycobacterium tuberculosis\n",
    "\n",
    "!ln -s   /datos/resources/examples/rawdata/mycobacterium/ERR486840_1.fastq   ERR486840_1.fastq \n",
    "\n",
    "!ln -s   /datos/resources/examples/rawdata/mycobacterium/ERR486840_2.fastq   ERR486840_2.fastq "
   ]
  },
  {
   "cell_type": "markdown",
   "id": "a9dc11d3",
   "metadata": {},
   "source": [
    "### Parte 1: Descargar el genoma de referencia\n",
    "\n",
    "Un genoma de referencia es una secuencia genómica conocida que se usa como modelo o \"molde\" para guiar el alineamiento de lecturas nuevas. En el caso de Mycoplasma genitalium, su genoma es pequeño (~580 kb) y está completamente secuenciado, lo que lo hace ideal para análisis de referencia.\n",
    "\n",
    "Determinar cual genoma de referencia usar es una tarea fundamental en el proceso de ensamblaje y no siempre es un proceso directo que sea fácil de llevar a cabo, pues requiere estar seguro de elegir el mejor genoma posible para llevar a acabo el alineamiento lo cual requiere de un conocimiento mínimo de la biología del organismo a ensamblar. \n",
    "\n",
    "Para este taller obtenga el genoma de referencia del NCBI en el enlace proveido:\n",
    "\n",
    "https://www.ncbi.nlm.nih.gov/datasets/taxonomy/2097/\n",
    "\n",
    "\n",
    "\n",
    "Responda las preguntas asociadas:\n",
    "\n",
    "https://docs.google.com/forms/d/e/1FAIpQLSfisjTZ-N1TSEKa3V7Jdu7-s24sthkH4s4SPxu4flvUY_achQ/viewform?hr_submission=ChkI9uvrh-QBEhAIkoK8vOQWEgcI08PbkqsUEAA\n",
    "\n",
    "\n",
    "\n"
   ]
  },
  {
   "cell_type": "code",
   "execution_count": null,
   "id": "05a5cf2f",
   "metadata": {},
   "outputs": [],
   "source": [
    "# Se usara el archivo GCF, debido a que tiene una curaduria previa.\n",
    "# El archivo GCA es el genoma completo sin curaduria previa.\n",
    "# NOTA: En adelante el genoma de referencia será llamado mycoplasma_ref.fna"
   ]
  },
  {
   "cell_type": "markdown",
   "id": "586969bf",
   "metadata": {},
   "source": [
    "**Pregunta 1:** ¿Cuales de estas son características correctas del genoma de referencia de Mycoplasma genitalium usado en el taller?\n",
    "\n",
    "**R/** Para responder esta pregunta se revisan los archivos assembly_data_report.jsonl, el cual contiene las estadisticas detalladas del ensamblaje. Al igual que el archivo data_summary.tsv.\n",
    "\n",
    "**Contig N50: 580.1Kb; Genome Coverage de 533X, Strain G37**"
   ]
  },
  {
   "cell_type": "markdown",
   "id": "7b01f3a7",
   "metadata": {},
   "source": [
    "### Parte 2: Indexación del genoma con BWA\n",
    "\n",
    "El proceso de indexación es fundamental en bioinformática y es usado en casi todos los procesos de aceleración de alineamientos, como en BLAST y en ensamblajes de genoma completo. En este caso, antes de poder alinear lecturas, BWA necesita preparar (indexar) el genoma para búsquedas rápidas y eficientes. Este proceso genera estructuras de datos internas que permiten alinear millones de lecturas sin recorrer el genoma secuencia por secuencia.\n",
    "\n",
    "¿Qué es BWA?\n",
    "BWA (Burrows-Wheeler Aligner) es un alineador de lecturas cortas contra genomas de referencia. Es rápido, eficiente y ampliamente usado en pipelines genómicos.\n",
    "\n",
    "Realice la indexación usando el siguiente comando y responda las preguntas asociadas  en el formulario presentado anteriormente.\n",
    "\n",
    "\n"
   ]
  },
  {
   "cell_type": "code",
   "execution_count": null,
   "id": "9c2f82a7",
   "metadata": {},
   "outputs": [],
   "source": [
    "#!bwa index mycoplasma_ref.fna\n",
    "\n",
    "\"\"\"(base) fjosesala@Franciscos-MacBook-Air GCF_040556925.1 % bwa index GCF_mycoplasma_ref.fna \n",
    "[bwa_index] Pack FASTA... 0.00 sec\n",
    "[bwa_index] Construct BWT for the packed sequence...\n",
    "[bwa_index] 0.08 seconds elapse.\n",
    "[bwa_index] Update BWT... 0.00 sec\n",
    "[bwa_index] Pack forward-only FASTA... 0.00 sec\n",
    "[bwa_index] Construct SA from BWT and Occ... 0.02 sec\n",
    "[main] Version: 0.7.19-r1273\n",
    "[main] CMD: bwa index GCF_mycoplasma_ref.fna\n",
    "[main] Real time: 0.113 sec; CPU: 0.133 sec\n",
    "(base) fjosesala@Franciscos-MacBook-Air GCF_040556925.1 % \"\"\""
   ]
  },
  {
   "cell_type": "markdown",
   "id": "e74541fb",
   "metadata": {},
   "source": [
    "**Pregunta 2:** Salmon y Bowtie son ensambladores populares que se usan muchas veces como alternativas a BWA ya que permiten también realizar ensamblajes de genoma completo.\n",
    "\n",
    "**R/** FALSO, pues en el caso de bowtie, son alineadores (mapean contra un genoma de referencia, no ensambla desde 0). En el caso de Salmon, es una herramienta que permite secuenciar la expresion genica (transcriptomas), a partir de RNA-seq."
   ]
  },
  {
   "cell_type": "markdown",
   "id": "7c011fb4",
   "metadata": {},
   "source": [
    "**Pregunta 3:** En el proceso de indexación del genoma de referencia usando BWA se crearon 5 arhivos con las siguientes extensiones:\n",
    "\n",
    "**R/** amb, ann, .bwt, .pac y .sa"
   ]
  },
  {
   "cell_type": "markdown",
   "id": "4dbb701b",
   "metadata": {},
   "source": [
    "### Parte 3: Alineamiento de las lecturas al genoma\n",
    "\n",
    "bwa mem es un \"subcomando\" de BWA para lecturas tipo Illumina (paired-end). Usa el algoritmo de Burrows-Wheeler para buscar coincidencias entre las lecturas y la referencia. Este es básicamente el comando que nos permite ubicar la posición de cada uno de los reads en el genoma.\n",
    "\n"
   ]
  },
  {
   "cell_type": "code",
   "execution_count": null,
   "id": "fbb3f561",
   "metadata": {},
   "outputs": [],
   "source": [
    "#Correr bwa mem para llevar a cabo el alineamiento:\n",
    "\n",
    "!bwa mem GCF_mycoplasma_ref.fna ERR486840_1.fastq ERR486840_2.fastq > alineamiento.sam"
   ]
  },
  {
   "cell_type": "markdown",
   "id": "092f12cd",
   "metadata": {},
   "source": [
    "Examine el archivo SAM obtenido. ¿Que peso tiene este archivo? Asegurese de tener claridad acerca de qué es un archivo SAM y cual es su importancia en Bioinformática, particularmente en el ensamblaje de genomas.\n",
    "\n",
    "**R/** Un Archivo SAM, se usa para almacenar las alineaciones de secuencias de lectura corta (reads), contra un genoma de referencia. Se estructura con un header, que contiene metadatos y una seccion de alineamiento, donde cada fila representa una secuencia de lectura.\n",
    "\n",
    "\n"
   ]
  },
  {
   "cell_type": "markdown",
   "id": "5ec3e9cd",
   "metadata": {},
   "source": [
    "**Pregunta 4:** El archivo SAM obtenido consta de alrededor de cuantas secuencias alineadas? \n",
    "\n",
    "**R/** Más de 780 mil secuencias alineadas"
   ]
  },
  {
   "cell_type": "code",
   "execution_count": null,
   "id": "6ffe8f7b",
   "metadata": {},
   "outputs": [],
   "source": [
    "!grep -v '^@' alineamiento.sam | wc \n",
    "\n",
    "\"\"\"782390\"\"\" \n",
    "\n",
    "!ls -lh alineamiento.sam\n",
    "\n",
    "\"\"\"326.8 MB\"\"\""
   ]
  },
  {
   "cell_type": "markdown",
   "metadata": {},
   "source": [
    "### Parte 4: Conversión y procesamiento del archivo de alineamiento\n",
    "\n",
    "El formato SAM (Sequence Alignment/Map) es un archivo de texto plano que contiene cada uno de los alineamientos de las lecturas al genoma de referencia. Es legible por humanos, pero muy pesado y lento de procesar. Por esta razón una práctica común es la de convertir este archivo SAM a un formato más ligero y compacto sin perdidad de información denominado BAM."
   ]
  },
  {
   "cell_type": "code",
   "execution_count": null,
   "id": "b8581139",
   "metadata": {},
   "outputs": [],
   "source": [
    "!samtools view -S -b alineamiento.sam > alineamiento.bam\n",
    "\n",
    "!ls -lh alineamiento.bam\n",
    "\n",
    "\"\"\"51.6 MB\"\"\""
   ]
  },
  {
   "cell_type": "markdown",
   "id": "080383d0",
   "metadata": {},
   "source": [
    "¿Nota alguna diferencia de tamaño? ¿Para qué sirven las opciones -S y -b?\n",
    "\n",
    "Si, El archivo BAM pesa mucho menos (51.6mb).\n",
    "\n",
    "- b: Es una opción que le indica a samtools que la salida debe ser en formato BAM.\n",
    "- S: Es una opción que le indica a samtools que la entrada está en formato SAM."
   ]
  },
  {
   "cell_type": "markdown",
   "id": "2fe304fc",
   "metadata": {},
   "source": [
    "### Parte 5: Ordenar el archivo BAM\n",
    "\n",
    "Muchos programas, como samtools index o visualizadores como IGV, requieren que los alineamientos estén ordenados de acuerdo a las coordenadas del genoma. Esto también mejora el acceso aleatorio y la eficiencia en análisis posteriores. Por esta razón el ordenamiento de los alineamientos es clave para acelerar cualquier proceso posterior pues se pasa de tener los alineamientos en el archivo SAM y BAM tal y como se fue realizando el alineamiento, a ordenarlos de acuerdo a su posición en el genoma."
   ]
  },
  {
   "cell_type": "code",
   "execution_count": null,
   "id": "6f929853",
   "metadata": {},
   "outputs": [],
   "source": [
    "!samtools sort alineamiento.bam -o alineamiento_sorted.bam"
   ]
  },
  {
   "cell_type": "markdown",
   "id": "df12a256",
   "metadata": {},
   "source": [
    "### Parte 6: Indexar el archivo BAM\n",
    "\n",
    "Aunque no es estrictamente necesario, la indexacion del archivo BAM es un proceso rutinario, ya que es requerido por muchos programas de visualización. La indexación genera un archivo .bai que permite: \n",
    "\n",
    "- Acceso rápido a regiones específicas del genoma.\n",
    "\n",
    "- Visualización eficiente en programas como IGV.\n",
    "\n",
    "- Cálculos rápidos de cobertura, variantes, etc."
   ]
  },
  {
   "cell_type": "code",
   "execution_count": null,
   "id": "075c7f1e",
   "metadata": {},
   "outputs": [],
   "source": [
    "!samtools index alineamiento_sorted.bam"
   ]
  },
  {
   "cell_type": "markdown",
   "id": "e94f69e2",
   "metadata": {},
   "source": [
    "### Parte 7: Visualización del ensamblaje mediante Tablet\n",
    "\n",
    "Aunque el archivo BAM contiene toda la información de las lecturas alineadas al genoma, es difícil de interpretar directamente desde la línea de comandos. Por eso, utilizamos una herramienta gráfica (Tablet) que permitirá:\n",
    "\n",
    "- Ver cómo se alinean las lecturas una a una sobre la referencia.\n",
    "\n",
    "- Identificar regiones de baja cobertura, duplicaciones o errores sistemáticos.\n",
    "\n",
    "- Validar visualmente variantes y errores de secuenciación.\n",
    "\n",
    "- Comprender de forma intuitiva la relación entre datos crudos y el genoma de referencia."
   ]
  },
  {
   "cell_type": "markdown",
   "id": "eecb4a51",
   "metadata": {},
   "source": [
    "**Pregunta 5:** Captura de pantalla de la cobertura de sus reads en el genoma de referencia.\n"
   ]
  },
  {
   "cell_type": "markdown",
   "id": "84b6b5c7",
   "metadata": {},
   "source": [
    "<img src=\"Taller5_Ensamblaje_Resultados.png\" width=\"4000\"/>\n",
    "\n"
   ]
  },
  {
   "cell_type": "markdown",
   "id": "83318fc7",
   "metadata": {},
   "source": [
    "Identifique regiones de alta o baja cobertura. Cree que existen SNPs?\n",
    "\n",
    "**R/** Si, se hallan ajustando el parametro variants\n",
    "\n",
    "Hay fallas de secuenciación en algunos reads?\n",
    "\n",
    "**R/** No parece haber fallas de secuenciacion, pues no se percibe cambios bruscos en los reads ni gaps extremos.\n",
    "\n",
    "\n",
    "\n"
   ]
  }
 ],
 "metadata": {
  "kernelspec": {
   "display_name": "Python 3",
   "language": "python",
   "name": "python3"
  },
  "language_info": {
   "codemirror_mode": {
    "name": "ipython",
    "version": 3
   },
   "file_extension": ".py",
   "mimetype": "text/x-python",
   "name": "python",
   "nbconvert_exporter": "python",
   "pygments_lexer": "ipython3",
   "version": "3.11.13"
  }
 },
 "nbformat": 4,
 "nbformat_minor": 5
}
